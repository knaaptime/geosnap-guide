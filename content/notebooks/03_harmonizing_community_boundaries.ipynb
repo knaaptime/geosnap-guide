{
 "cells": [
  {
   "cell_type": "code",
   "execution_count": 1,
   "metadata": {},
   "outputs": [],
   "source": [
    "%load_ext autoreload\n",
    "%autoreload 2\n",
    "from geosnap import Community"
   ]
  },
  {
   "cell_type": "markdown",
   "metadata": {},
   "source": [
    "## Data prep"
   ]
  },
  {
   "cell_type": "code",
   "execution_count": 3,
   "metadata": {},
   "outputs": [],
   "source": [
    "dc = Community.from_lodes(state_fips=\"11\", years=[2010, 2015])"
   ]
  },
  {
   "cell_type": "code",
   "execution_count": 4,
   "metadata": {},
   "outputs": [],
   "source": [
    "dc_tracts = Community.from_census(state_fips=\"11\", years=2010)"
   ]
  },
  {
   "cell_type": "code",
   "execution_count": 5,
   "metadata": {},
   "outputs": [],
   "source": [
    "# tract level data from 2010, this is the source\n",
    "tracts = dc_tracts.gdf"
   ]
  },
  {
   "cell_type": "code",
   "execution_count": 6,
   "metadata": {},
   "outputs": [],
   "source": [
    "# block level data from 2015, this is the target\n",
    "blocks = dc.gdf[dc.gdf.year == 2015]"
   ]
  },
  {
   "cell_type": "code",
   "execution_count": 7,
   "metadata": {},
   "outputs": [],
   "source": [
    "# original block-level data for 2010, this is the ground truth\n",
    "test = dc.gdf[dc.gdf.year == 2010]"
   ]
  },
  {
   "cell_type": "code",
   "execution_count": 8,
   "metadata": {},
   "outputs": [],
   "source": [
    "# rename this variable so its the same on blocks/tracts\n",
    "tracts[\"population\"] = tracts[\"n_total_pop\"]"
   ]
  },
  {
   "cell_type": "code",
   "execution_count": 9,
   "metadata": {},
   "outputs": [],
   "source": [
    "# community with mixed geoms\n",
    "hybrid = Community.from_geodataframes([blocks, tracts])"
   ]
  },
  {
   "cell_type": "markdown",
   "metadata": {},
   "source": [
    "## Harmonizing a community with areal interpolation"
   ]
  },
  {
   "cell_type": "code",
   "execution_count": null,
   "metadata": {},
   "outputs": [],
   "source": []
  },
  {
   "cell_type": "code",
   "execution_count": 10,
   "metadata": {},
   "outputs": [],
   "source": [
    "# this wil take the 2010 tract data and interpolate it to 2015 boundaries (the same as 2010)\n",
    "# using pure area interpolation here\n",
    "\n",
    "hybrid_area = hybrid.harmonize(2015, extensive_variables=[\"population\"])"
   ]
  },
  {
   "cell_type": "markdown",
   "metadata": {},
   "source": [
    "## Harmonizing a community with areal interpolation and auxiliary data"
   ]
  },
  {
   "cell_type": "code",
   "execution_count": null,
   "metadata": {},
   "outputs": [],
   "source": []
  },
  {
   "cell_type": "code",
   "execution_count": null,
   "metadata": {},
   "outputs": [],
   "source": [
    "# this will do the same as above, but will use 2011 NLCD data to constrain the overlay to what's considered developed land\n",
    "\n",
    "hybrid_raster = hybrid.harmonize(\n",
    "    2015, extensive_variables=[\"population\"], weights_method=\"land_type_area\"\n",
    ")"
   ]
  },
  {
   "cell_type": "code",
   "execution_count": null,
   "metadata": {},
   "outputs": [],
   "source": [
    "interpolated_area = hybrid_area.gdf[hybrid_area.gdf.year == 2010]\n",
    "interpolated_raster = hybrid_raster.gdf[hybrid_raster.gdf.year == 2010]"
   ]
  },
  {
   "cell_type": "code",
   "execution_count": null,
   "metadata": {},
   "outputs": [],
   "source": [
    "import matplotlib.pyplot as plt\n",
    "\n",
    "fig, axs = plt.subplots(1, 3, figsize=(20, 8))\n",
    "titles = [\"truth\", \"area\", \"raster\"]\n",
    "for i, data in enumerate([test, interpolated_area, interpolated_raster]):\n",
    "    data.plot(\"population\", ax=axs[i])\n",
    "    axs[i].set_title(titles[i])"
   ]
  },
  {
   "cell_type": "code",
   "execution_count": null,
   "metadata": {},
   "outputs": [],
   "source": [
    "diff = test.population - interpolated_area.population\n",
    "\n",
    "diff.hist()\n",
    "diff.describe()"
   ]
  },
  {
   "cell_type": "code",
   "execution_count": null,
   "metadata": {},
   "outputs": [],
   "source": [
    "diff = test.population - interpolated_raster.population\n",
    "\n",
    "diff.hist()\n",
    "diff.describe()"
   ]
  },
  {
   "cell_type": "code",
   "execution_count": null,
   "metadata": {},
   "outputs": [],
   "source": []
  }
 ],
 "metadata": {
  "kernelspec": {
   "display_name": "Python [conda env:geosnap]",
   "language": "python",
   "name": "conda-env-geosnap-py"
  },
  "language_info": {
   "codemirror_mode": {
    "name": "ipython",
    "version": 3
   },
   "file_extension": ".py",
   "mimetype": "text/x-python",
   "name": "python",
   "nbconvert_exporter": "python",
   "pygments_lexer": "ipython3",
   "version": "3.7.3"
  }
 },
 "nbformat": 4,
 "nbformat_minor": 4
}
